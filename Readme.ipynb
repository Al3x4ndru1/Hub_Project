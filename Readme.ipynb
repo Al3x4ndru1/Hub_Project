{
 "cells": [
  {
   "cell_type": "markdown",
   "metadata": {},
   "source": [
    "# Hub Project"
   ]
  },
  {
   "cell_type": "markdown",
   "metadata": {},
   "source": [
    "----------------------------------"
   ]
  },
  {
   "cell_type": "markdown",
   "metadata": {},
   "source": [
    "## Background"
   ]
  },
  {
   "cell_type": "markdown",
   "metadata": {},
   "source": [
    "The project's genesis occurred during a course at my university, where we were privileged to have a representative from Oracle join us as the client for our team. During this engagement, the representative articulated his vision, and I carried the team leader and sole developer role. Drawing upon my expertise as a full-stack developer, I embarked on creating a mobile application and a Spring Boot server, both augmented with artificial intelligence capabilities to identify various health conditions such as ADHD, Autism, and Dyslexia. \n",
    "\n",
    "This was my first mobile application and this project was in my early stage of my softweare developer career.\n",
    "\n",
    "Following the conclusion of the initial project phase, I was approached by the representative to continue our collaboration throughout the summer months. Subsequently, our ongoing efforts culminated in a successful project outcome presented and deliberated upon with esteemed board members."
   ]
  },
  {
   "cell_type": "markdown",
   "metadata": {},
   "source": [
    "-----------------------"
   ]
  },
  {
   "cell_type": "markdown",
   "metadata": {},
   "source": [
    "## System Overview"
   ]
  },
  {
   "cell_type": "markdown",
   "metadata": {},
   "source": [
    "<center><figure><img src=\"figs/Hub System Overview.drawio.png\" alt=\"Hub System Overview\"><figcaption>Hub System Overview</figcaption></figure></center>"
   ]
  },
  {
   "cell_type": "markdown",
   "metadata": {},
   "source": [
    "---------------------"
   ]
  },
  {
   "cell_type": "markdown",
   "metadata": {},
   "source": [
    "## Technologies used: "
   ]
  },
  {
   "cell_type": "markdown",
   "metadata": {},
   "source": [
    "Server:\n",
    "\n",
    "* Spring Boot (Java)"
   ]
  },
  {
   "cell_type": "markdown",
   "metadata": {},
   "source": [
    "Mobile Application:\n",
    "\n",
    "* Java\n",
    "* Kotlin"
   ]
  }
 ],
 "metadata": {
  "language_info": {
   "name": "python"
  }
 },
 "nbformat": 4,
 "nbformat_minor": 2
}
